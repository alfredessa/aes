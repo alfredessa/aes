{
 "cells": [
  {
   "cell_type": "markdown",
   "id": "2abb2109",
   "metadata": {},
   "source": [
    "# 4. Neuron Class"
   ]
  },
  {
   "cell_type": "code",
   "execution_count": 1,
   "id": "60d56621",
   "metadata": {},
   "outputs": [],
   "source": [
    "import numpy as np"
   ]
  },
  {
   "cell_type": "markdown",
   "id": "cb0aaeaa",
   "metadata": {},
   "source": [
    "## Example input ($x$) and neuron parameters ($w, b$) "
   ]
  },
  {
   "cell_type": "code",
   "execution_count": 2,
   "id": "88a4dfce",
   "metadata": {},
   "outputs": [],
   "source": [
    "# define inputs as x\n",
    "x = np.array([2.3,4.5,1.3])\n",
    "\n",
    "# define weights as w\n",
    "w = np.array([3.2,-1.9,2.5])\n",
    "\n",
    "# define bias\n",
    "b = np.array([-1])"
   ]
  },
  {
   "cell_type": "markdown",
   "id": "652ec2eb",
   "metadata": {},
   "source": [
    "## Define activation functions, sigmoid and relu"
   ]
  },
  {
   "cell_type": "code",
   "execution_count": 3,
   "id": "16b78835",
   "metadata": {},
   "outputs": [],
   "source": [
    "# define sigmoid and relu functions (activation functions)\n",
    "def sigmoid(x):\n",
    "    return 1/(1 + np.exp(-x))\n",
    "\n",
    "def relu(x):\n",
    "    return max(0,x)"
   ]
  },
  {
   "cell_type": "markdown",
   "id": "4ab2d371",
   "metadata": {},
   "source": [
    "## Define Neuron class"
   ]
  },
  {
   "cell_type": "code",
   "execution_count": 29,
   "id": "ab133629",
   "metadata": {},
   "outputs": [],
   "source": [
    "# define neuron class \n",
    "class Neuron:\n",
    "    def __init__(self,w,b,activation_f):\n",
    "        self.w = w\n",
    "        self.b = b\n",
    "        self.activation_f = activation_f\n",
    "    def neuron_output(self,x):\n",
    "        z = np.dot(self.w,x) + self.b\n",
    "        y = self.activation_f(z)\n",
    "        return y\n"
   ]
  },
  {
   "cell_type": "code",
   "execution_count": 35,
   "id": "0d7e1e91",
   "metadata": {},
   "outputs": [],
   "source": [
    "# initialize a neuron with w, b, and sigmoid activation function\n",
    "n = Neuron(w,b,sigmoid)"
   ]
  },
  {
   "cell_type": "code",
   "execution_count": 37,
   "id": "edff20dd",
   "metadata": {},
   "outputs": [
    {
     "data": {
      "text/plain": [
       "array([0.74269055])"
      ]
     },
     "execution_count": 37,
     "metadata": {},
     "output_type": "execute_result"
    }
   ],
   "source": [
    "# calculate output\n",
    "n.neuron_output(x)"
   ]
  },
  {
   "cell_type": "code",
   "execution_count": null,
   "id": "4dc1df25",
   "metadata": {},
   "outputs": [],
   "source": []
  }
 ],
 "metadata": {
  "kernelspec": {
   "display_name": "Python 3 (ipykernel)",
   "language": "python",
   "name": "python3"
  },
  "language_info": {
   "codemirror_mode": {
    "name": "ipython",
    "version": 3
   },
   "file_extension": ".py",
   "mimetype": "text/x-python",
   "name": "python",
   "nbconvert_exporter": "python",
   "pygments_lexer": "ipython3",
   "version": "3.8.11"
  },
  "toc": {
   "base_numbering": 1,
   "nav_menu": {},
   "number_sections": false,
   "sideBar": true,
   "skip_h1_title": false,
   "title_cell": "Table of Contents",
   "title_sidebar": "Contents",
   "toc_cell": false,
   "toc_position": {},
   "toc_section_display": true,
   "toc_window_display": true
  }
 },
 "nbformat": 4,
 "nbformat_minor": 5
}
