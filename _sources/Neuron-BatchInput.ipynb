{
 "cells": [
  {
   "cell_type": "markdown",
   "id": "d3efd2e4",
   "metadata": {},
   "source": [
    "# 5. Neuron-Batch Input"
   ]
  },
  {
   "cell_type": "code",
   "execution_count": 13,
   "id": "e27f8a34",
   "metadata": {},
   "outputs": [],
   "source": [
    "import numpy as np\n",
    "np.set_printoptions(precision=2, suppress=True)"
   ]
  },
  {
   "cell_type": "code",
   "execution_count": 14,
   "id": "f0d529f0",
   "metadata": {},
   "outputs": [
    {
     "name": "stdout",
     "output_type": "stream",
     "text": [
      "[[ 2.3  4.5  1.3]\n",
      " [-1.1  3.2 -2. ]\n",
      " [-0.2  1.9  3. ]\n",
      " [-0.2 -0.1  0.4]\n",
      " [-0.1 -0.3 -0.2]]\n"
     ]
    }
   ],
   "source": [
    "# define input batch of five\n",
    "X = np.array([[2.3,4.5,1.3],[-1.1,3.2,-2],[-.2,1.9,3],[-.2,-.1,.4],[-.1,-.3,-.2]])\n",
    "print(X)"
   ]
  },
  {
   "cell_type": "code",
   "execution_count": 15,
   "id": "17a30def",
   "metadata": {},
   "outputs": [],
   "source": [
    "# define weights as w\n",
    "w = np.array([3.2,-1.9,2.5])\n",
    "\n",
    "# define bias\n",
    "b = np.array([-1])"
   ]
  },
  {
   "cell_type": "code",
   "execution_count": 16,
   "id": "3f7ab594",
   "metadata": {},
   "outputs": [],
   "source": [
    "# define sigmoid and relu functions (activation functions)\n",
    "def sigmoid(x):\n",
    "    return 1/(1 + np.exp(-x))\n",
    "\n",
    "def relu(x):\n",
    "    return np.maximum(0,x)"
   ]
  },
  {
   "cell_type": "code",
   "execution_count": 17,
   "id": "c17bb55f",
   "metadata": {},
   "outputs": [],
   "source": [
    "# define neuron_output\n",
    "def neuron_output(X,w,b,phi): \n",
    "    z = np.dot(w,X.T)+b\n",
    "    return phi(z)"
   ]
  },
  {
   "cell_type": "code",
   "execution_count": 20,
   "id": "f2f0c5e1",
   "metadata": {},
   "outputs": [
    {
     "name": "stdout",
     "output_type": "stream",
     "text": [
      "[0.74 0.   0.9  0.39 0.22]\n",
      "[1.06 0.   2.25 0.   0.  ]\n"
     ]
    }
   ],
   "source": [
    "# Compute neuron output for batch of inputs\n",
    "\n",
    "print(neuron_output(X,w,b, sigmoid))\n",
    "\n",
    "print(neuron_output(X,w,b, relu))"
   ]
  },
  {
   "cell_type": "code",
   "execution_count": 21,
   "id": "d13495dd",
   "metadata": {},
   "outputs": [],
   "source": [
    "# create Neuron class\n",
    "class Neuron:\n",
    "    def __init__(self, neuron_input,weights,bias,activation_function):\n",
    "        self.w = weights\n",
    "        self.b = bias\n",
    "        self.X = neuron_input\n",
    "        self.phi = activation_function\n",
    "    def calc_output(self):\n",
    "        z = np.dot(self.w,self.X.T) + self.b\n",
    "        a = self.phi(z)\n",
    "        return a"
   ]
  },
  {
   "cell_type": "code",
   "execution_count": 22,
   "id": "26e7d589",
   "metadata": {},
   "outputs": [
    {
     "data": {
      "text/plain": [
       "array([1.06, 0.  , 2.25, 0.  , 0.  ])"
      ]
     },
     "execution_count": 22,
     "metadata": {},
     "output_type": "execute_result"
    }
   ],
   "source": [
    "# instantiate neuron class and calculate output for relu activation function\n",
    "Neuron_relu = Neuron(X,w,b,relu)\n",
    "Neuron_relu.calc_output()"
   ]
  },
  {
   "cell_type": "code",
   "execution_count": 23,
   "id": "63df7e8a",
   "metadata": {},
   "outputs": [
    {
     "data": {
      "text/plain": [
       "array([0.74, 0.  , 0.9 , 0.39, 0.22])"
      ]
     },
     "execution_count": 23,
     "metadata": {},
     "output_type": "execute_result"
    }
   ],
   "source": [
    "Neuron_sigmoid = Neuron(X,w,b,sigmoid)\n",
    "Neuron_sigmoid.calc_output()"
   ]
  },
  {
   "cell_type": "code",
   "execution_count": null,
   "id": "b1d37ba3",
   "metadata": {},
   "outputs": [],
   "source": []
  }
 ],
 "metadata": {
  "kernelspec": {
   "display_name": "Python 3 (ipykernel)",
   "language": "python",
   "name": "python3"
  },
  "language_info": {
   "codemirror_mode": {
    "name": "ipython",
    "version": 3
   },
   "file_extension": ".py",
   "mimetype": "text/x-python",
   "name": "python",
   "nbconvert_exporter": "python",
   "pygments_lexer": "ipython3",
   "version": "3.8.11"
  },
  "toc": {
   "base_numbering": 1,
   "nav_menu": {},
   "number_sections": false,
   "sideBar": true,
   "skip_h1_title": false,
   "title_cell": "Table of Contents",
   "title_sidebar": "Contents",
   "toc_cell": false,
   "toc_position": {},
   "toc_section_display": true,
   "toc_window_display": true
  }
 },
 "nbformat": 4,
 "nbformat_minor": 5
}
