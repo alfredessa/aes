{
 "cells": [
  {
   "cell_type": "markdown",
   "id": "46e55775",
   "metadata": {},
   "source": [
    "# Forward Propagation"
   ]
  },
  {
   "cell_type": "code",
   "execution_count": 1,
   "id": "1bd33cff",
   "metadata": {},
   "outputs": [],
   "source": [
    "import numpy as np\n",
    "np.set_printoptions(precision=2, suppress=True)"
   ]
  },
  {
   "cell_type": "code",
   "execution_count": 2,
   "id": "6eb17ed2",
   "metadata": {},
   "outputs": [],
   "source": [
    "# define activation functions\n",
    "def sigmoid(z):\n",
    "    return 1.0/(1.0 + np.exp(-z)) \n",
    "def relu(z):\n",
    "    return np.maximum(z, 0)"
   ]
  },
  {
   "cell_type": "code",
   "execution_count": 15,
   "id": "00df9918",
   "metadata": {},
   "outputs": [],
   "source": [
    "# define Layer Class\n",
    "class Layer:\n",
    "    \n",
    "    def __init__(self,n_inputs,n_neurons):\n",
    "        np.random.seed(21)\n",
    "        self.weights = np.random.randn(n_neurons,n_inputs)\n",
    "        self.biases = np.zeros((n_neurons,1))\n",
    "        \n",
    "    def update_params(self,new_weights,new_biases):\n",
    "        self.weights = new_weights\n",
    "        self.biases = new_biases\n",
    "        \n",
    "    def forward(self,inputs,phi):\n",
    "        self.outputs = phi(np.dot(self.weights,inputs)+self.biases)\n",
    "        return self.outputs"
   ]
  },
  {
   "cell_type": "code",
   "execution_count": 4,
   "id": "1d154bce",
   "metadata": {},
   "outputs": [],
   "source": [
    "x1 = np.array([[2.3,4.5,1.3]])\n",
    "x1 = x1.T\n",
    "\n",
    "W1 = np.array([[3.2,-1.9,2.5],[.2,-.3,.2]])\n",
    "b1 = np.array([[-1],[1]])"
   ]
  },
  {
   "cell_type": "code",
   "execution_count": 5,
   "id": "753d6cf1",
   "metadata": {},
   "outputs": [],
   "source": [
    "L1 = Layer(3,2)\n",
    "L2 = Layer(2,1)"
   ]
  },
  {
   "cell_type": "code",
   "execution_count": 9,
   "id": "01e552dd",
   "metadata": {},
   "outputs": [],
   "source": [
    "L1.update_params(W1,b1)"
   ]
  },
  {
   "cell_type": "code",
   "execution_count": 10,
   "id": "1dc31296",
   "metadata": {},
   "outputs": [
    {
     "data": {
      "text/plain": [
       "array([[ 3.2, -1.9,  2.5],\n",
       "       [ 0.2, -0.3,  0.2]])"
      ]
     },
     "execution_count": 10,
     "metadata": {},
     "output_type": "execute_result"
    }
   ],
   "source": [
    "L1.weights"
   ]
  },
  {
   "cell_type": "code",
   "execution_count": 11,
   "id": "9ea9176e",
   "metadata": {},
   "outputs": [
    {
     "data": {
      "text/plain": [
       "array([[-1],\n",
       "       [ 1]])"
      ]
     },
     "execution_count": 11,
     "metadata": {},
     "output_type": "execute_result"
    }
   ],
   "source": [
    "L1.biases"
   ]
  },
  {
   "cell_type": "code",
   "execution_count": 16,
   "id": "e9649719",
   "metadata": {},
   "outputs": [
    {
     "data": {
      "text/plain": [
       "array([[-0.05, -0.11]])"
      ]
     },
     "execution_count": 16,
     "metadata": {},
     "output_type": "execute_result"
    }
   ],
   "source": [
    "L2.weights"
   ]
  },
  {
   "cell_type": "code",
   "execution_count": 17,
   "id": "09a248ac",
   "metadata": {},
   "outputs": [
    {
     "data": {
      "text/plain": [
       "array([[0.]])"
      ]
     },
     "execution_count": 17,
     "metadata": {},
     "output_type": "execute_result"
    }
   ],
   "source": [
    "L2.biases"
   ]
  },
  {
   "cell_type": "code",
   "execution_count": 12,
   "id": "1c14859d",
   "metadata": {},
   "outputs": [
    {
     "data": {
      "text/plain": [
       "array([[1.06],\n",
       "       [0.37]])"
      ]
     },
     "execution_count": 12,
     "metadata": {},
     "output_type": "execute_result"
    }
   ],
   "source": [
    "A1 = L1.forward(x1,relu)\n",
    "A1"
   ]
  },
  {
   "cell_type": "code",
   "execution_count": 13,
   "id": "357a1871",
   "metadata": {},
   "outputs": [
    {
     "data": {
      "text/plain": [
       "array([[0.48]])"
      ]
     },
     "execution_count": 13,
     "metadata": {},
     "output_type": "execute_result"
    }
   ],
   "source": [
    "A2 = L2.forward(A1,sigmoid)\n",
    "A2"
   ]
  },
  {
   "cell_type": "code",
   "execution_count": 14,
   "id": "7c9a9e3c",
   "metadata": {},
   "outputs": [
    {
     "data": {
      "text/plain": [
       "array([[0.48]])"
      ]
     },
     "execution_count": 14,
     "metadata": {},
     "output_type": "execute_result"
    }
   ],
   "source": [
    "A2"
   ]
  },
  {
   "cell_type": "code",
   "execution_count": null,
   "id": "255c3d5a",
   "metadata": {},
   "outputs": [],
   "source": []
  }
 ],
 "metadata": {
  "kernelspec": {
   "display_name": "Python 3 (ipykernel)",
   "language": "python",
   "name": "python3"
  },
  "language_info": {
   "codemirror_mode": {
    "name": "ipython",
    "version": 3
   },
   "file_extension": ".py",
   "mimetype": "text/x-python",
   "name": "python",
   "nbconvert_exporter": "python",
   "pygments_lexer": "ipython3",
   "version": "3.8.11"
  },
  "toc": {
   "base_numbering": 1,
   "nav_menu": {},
   "number_sections": false,
   "sideBar": true,
   "skip_h1_title": false,
   "title_cell": "Table of Contents",
   "title_sidebar": "Contents",
   "toc_cell": false,
   "toc_position": {},
   "toc_section_display": true,
   "toc_window_display": true
  }
 },
 "nbformat": 4,
 "nbformat_minor": 5
}
