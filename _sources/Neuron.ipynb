{
 "cells": [
  {
   "cell_type": "markdown",
   "id": "4743c367",
   "metadata": {},
   "source": [
    "# Neuron"
   ]
  },
  {
   "cell_type": "code",
   "execution_count": 45,
   "id": "e6a11319",
   "metadata": {},
   "outputs": [],
   "source": [
    "import numpy as np"
   ]
  },
  {
   "cell_type": "markdown",
   "id": "b8ac170e",
   "metadata": {},
   "source": [
    "## Neuron without activation function"
   ]
  },
  {
   "cell_type": "markdown",
   "id": "5a7e1883",
   "metadata": {},
   "source": [
    "### Example input ($x$) and neuron parameters ($w, b$) "
   ]
  },
  {
   "cell_type": "code",
   "execution_count": 46,
   "id": "a7c11888",
   "metadata": {},
   "outputs": [],
   "source": [
    "# define inputs as x\n",
    "x = np.array([2.3,4.5,1.3])\n",
    "\n",
    "# define weights as w\n",
    "w = np.array([3.2,-1.9,2.5])\n",
    "\n",
    "# define bias\n",
    "b = np.array([-1])"
   ]
  },
  {
   "cell_type": "markdown",
   "id": "f6521211",
   "metadata": {},
   "source": [
    "### Define function to compute neuron input (without activation function)"
   ]
  },
  {
   "cell_type": "code",
   "execution_count": 47,
   "id": "ff8d9b3c",
   "metadata": {},
   "outputs": [],
   "source": [
    "# function for neuron output\n",
    "def neuron_output(x, w, b):\n",
    "    return np.dot(w,x) + b"
   ]
  },
  {
   "cell_type": "markdown",
   "id": "027c3a34",
   "metadata": {},
   "source": [
    "### Compute neuron output"
   ]
  },
  {
   "cell_type": "code",
   "execution_count": 48,
   "id": "f7bbf3e0",
   "metadata": {},
   "outputs": [
    {
     "data": {
      "text/plain": [
       "array([1.06])"
      ]
     },
     "execution_count": 48,
     "metadata": {},
     "output_type": "execute_result"
    }
   ],
   "source": [
    "neuron_output(x,w,b)"
   ]
  },
  {
   "cell_type": "markdown",
   "id": "11ab6872",
   "metadata": {},
   "source": [
    "## Neuron with activation function"
   ]
  },
  {
   "cell_type": "markdown",
   "id": "4ebbae36",
   "metadata": {},
   "source": [
    "### Define activation functions, sigmoid and relu"
   ]
  },
  {
   "cell_type": "code",
   "execution_count": 49,
   "id": "29a7de4b",
   "metadata": {},
   "outputs": [],
   "source": [
    "# define sigmoid and relu functions (activation functions)\n",
    "def sigmoid(x):\n",
    "    return 1/(1 + np.exp(-x))\n",
    "\n",
    "def relu(x):\n",
    "    return max(0,x)"
   ]
  },
  {
   "cell_type": "markdown",
   "id": "9f19b7da",
   "metadata": {},
   "source": [
    "### Define neuron output "
   ]
  },
  {
   "cell_type": "code",
   "execution_count": 50,
   "id": "cac5a7e6",
   "metadata": {},
   "outputs": [],
   "source": [
    "# define neuron_output function with activation function as input parameter\n",
    "def neuron_output(x, w, b, activation_function):\n",
    "    return activation_function(np.dot(w,x) + b)"
   ]
  },
  {
   "cell_type": "markdown",
   "id": "7a1b8653",
   "metadata": {},
   "source": [
    "### Compute neuron output "
   ]
  },
  {
   "cell_type": "code",
   "execution_count": 51,
   "id": "143981dc",
   "metadata": {},
   "outputs": [
    {
     "name": "stdout",
     "output_type": "stream",
     "text": [
      "[0.74269055]\n",
      "[1.06]\n"
     ]
    }
   ],
   "source": [
    "### Compute neuron output with activation function\n",
    "\n",
    "print(neuron_output(x,w,b, sigmoid))\n",
    "\n",
    "print(neuron_output(x,w,b, relu))"
   ]
  }
 ],
 "metadata": {
  "kernelspec": {
   "display_name": "Python 3 (ipykernel)",
   "language": "python",
   "name": "python3"
  },
  "language_info": {
   "codemirror_mode": {
    "name": "ipython",
    "version": 3
   },
   "file_extension": ".py",
   "mimetype": "text/x-python",
   "name": "python",
   "nbconvert_exporter": "python",
   "pygments_lexer": "ipython3",
   "version": "3.8.11"
  }
 },
 "nbformat": 4,
 "nbformat_minor": 5
}
