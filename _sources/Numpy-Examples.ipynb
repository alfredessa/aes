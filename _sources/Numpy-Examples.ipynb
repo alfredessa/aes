{
 "cells": [
  {
   "cell_type": "markdown",
   "id": "15879b6d",
   "metadata": {},
   "source": [
    "# Numpy Examples"
   ]
  },
  {
   "cell_type": "code",
   "execution_count": 1,
   "id": "5a8bbac0",
   "metadata": {},
   "outputs": [],
   "source": [
    "import numpy as np\n",
    "import matplotlib.pyplot as plt\n",
    "import random\n",
    "np.set_printoptions(precision=2, suppress=True)"
   ]
  },
  {
   "cell_type": "markdown",
   "id": "fbb881a1",
   "metadata": {},
   "source": [
    "## Example 1:"
   ]
  },
  {
   "cell_type": "code",
   "execution_count": 2,
   "id": "3b29facf",
   "metadata": {},
   "outputs": [],
   "source": [
    "# Define the array\n",
    "A = np.array([1,2,3,4,5])"
   ]
  },
  {
   "cell_type": "code",
   "execution_count": 3,
   "id": "13afe2cb",
   "metadata": {},
   "outputs": [
    {
     "data": {
      "text/plain": [
       "array([ 1,  4,  9, 16, 25])"
      ]
     },
     "execution_count": 3,
     "metadata": {},
     "output_type": "execute_result"
    }
   ],
   "source": [
    "# Perform the computation\n",
    "A * A # element-wise"
   ]
  },
  {
   "cell_type": "markdown",
   "id": "1d30d5fc",
   "metadata": {},
   "source": [
    "## Example 2: "
   ]
  },
  {
   "cell_type": "code",
   "execution_count": 4,
   "id": "f5036768",
   "metadata": {},
   "outputs": [
    {
     "data": {
      "image/png": "[encoded data removed]",
      "text/plain": [
       "<Figure size 432x288 with 1 Axes>"
      ]
     },
     "metadata": {
      "needs_background": "light"
     },
     "output_type": "display_data"
    }
   ],
   "source": [
    "# generate 25 evenly spaced points in the interval -pi to pi\n",
    "x = np.linspace(-np.pi, np.pi, 25)\n",
    "\n",
    "# compute sin and cos for the points\n",
    "y1 = np.sin(x)\n",
    "y2 = np.cos(x)\n",
    "\n",
    "# plot sin and cos \n",
    "plt.plot(x,y1,'-.')\n",
    "plt.plot(x,y2,'-.')\n",
    "plt.grid()"
   ]
  },
  {
   "cell_type": "markdown",
   "id": "40ba4f1e",
   "metadata": {},
   "source": [
    "## Example 3: \n",
    "\n"
   ]
  },
  {
   "cell_type": "code",
   "execution_count": 5,
   "id": "403b0745",
   "metadata": {},
   "outputs": [],
   "source": [
    "a = np.random.random((10000,10))\n",
    "b = np.random.random((10,10000))"
   ]
  },
  {
   "cell_type": "code",
   "execution_count": 6,
   "id": "35643af7",
   "metadata": {},
   "outputs": [
    {
     "name": "stdout",
     "output_type": "stream",
     "text": [
      "CPU times: user 613 ms, sys: 218 ms, total: 831 ms\n",
      "Wall time: 306 ms\n"
     ]
    }
   ],
   "source": [
    "%%time\n",
    "c = np.dot(a,b)"
   ]
  },
  {
   "cell_type": "code",
   "execution_count": 7,
   "id": "8569b8b5",
   "metadata": {},
   "outputs": [
    {
     "data": {
      "text/plain": [
       "(10000, 10000)"
      ]
     },
     "execution_count": 7,
     "metadata": {},
     "output_type": "execute_result"
    }
   ],
   "source": [
    "c.shape"
   ]
  },
  {
   "cell_type": "code",
   "execution_count": null,
   "id": "0a5de00b",
   "metadata": {},
   "outputs": [],
   "source": [
    "# matrix size is 10000 x 10000\n",
    "c.size"
   ]
  },
  {
   "cell_type": "code",
   "execution_count": null,
   "id": "e431f0ce",
   "metadata": {},
   "outputs": [],
   "source": []
  },
  {
   "cell_type": "code",
   "execution_count": null,
   "id": "c94fb58f",
   "metadata": {},
   "outputs": [],
   "source": []
  }
 ],
 "metadata": {
  "kernelspec": {
   "display_name": "Python 3 (ipykernel)",
   "language": "python",
   "name": "python3"
  },
  "language_info": {
   "codemirror_mode": {
    "name": "ipython",
    "version": 3
   },
   "file_extension": ".py",
   "mimetype": "text/x-python",
   "name": "python",
   "nbconvert_exporter": "python",
   "pygments_lexer": "ipython3",
   "version": "3.8.11"
  },
  "toc": {
   "base_numbering": 1,
   "nav_menu": {},
   "number_sections": false,
   "sideBar": true,
   "skip_h1_title": false,
   "title_cell": "Table of Contents",
   "title_sidebar": "Contents",
   "toc_cell": false,
   "toc_position": {},
   "toc_section_display": true,
   "toc_window_display": true
  }
 },
 "nbformat": 4,
 "nbformat_minor": 5
}
