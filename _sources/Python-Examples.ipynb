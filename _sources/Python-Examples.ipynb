{
 "cells": [
  {
   "cell_type": "markdown",
   "id": "4a32bb36",
   "metadata": {},
   "source": [
    "# 1. Python Examples"
   ]
  },
  {
   "cell_type": "markdown",
   "id": "9b4e25a7",
   "metadata": {},
   "source": [
    "## For Loop"
   ]
  },
  {
   "cell_type": "code",
   "execution_count": 4,
   "id": "551c88b4",
   "metadata": {},
   "outputs": [],
   "source": [
    "colors = ['red','green','blue']"
   ]
  },
  {
   "cell_type": "code",
   "execution_count": 5,
   "id": "a05215a5",
   "metadata": {},
   "outputs": [
    {
     "name": "stdout",
     "output_type": "stream",
     "text": [
      "red\n",
      "green\n",
      "blue\n"
     ]
    }
   ],
   "source": [
    "for i in range(len(colors)):\n",
    "    print(colors[i])"
   ]
  },
  {
   "cell_type": "code",
   "execution_count": 6,
   "id": "16f842ae",
   "metadata": {},
   "outputs": [
    {
     "name": "stdout",
     "output_type": "stream",
     "text": [
      "red\n",
      "green\n",
      "blue\n"
     ]
    }
   ],
   "source": [
    "for color in colors:\n",
    "    print(color)"
   ]
  },
  {
   "cell_type": "markdown",
   "id": "5b1e6aa9",
   "metadata": {},
   "source": [
    "## Function"
   ]
  },
  {
   "cell_type": "code",
   "execution_count": 7,
   "id": "9b67818e",
   "metadata": {},
   "outputs": [],
   "source": [
    "def square(x):\n",
    "    return x*x"
   ]
  },
  {
   "cell_type": "code",
   "execution_count": 8,
   "id": "5736555d",
   "metadata": {},
   "outputs": [
    {
     "name": "stdout",
     "output_type": "stream",
     "text": [
      "196\n"
     ]
    }
   ],
   "source": [
    "print(square(14))"
   ]
  },
  {
   "cell_type": "code",
   "execution_count": 9,
   "id": "c5c2f016",
   "metadata": {},
   "outputs": [],
   "source": [
    "my_list = [2,3,4,5]"
   ]
  },
  {
   "cell_type": "code",
   "execution_count": 10,
   "id": "d41384ef",
   "metadata": {},
   "outputs": [],
   "source": [
    "# square(my_list)"
   ]
  },
  {
   "cell_type": "markdown",
   "id": "9e1dd5d7",
   "metadata": {},
   "source": [
    "## Function Repaired"
   ]
  },
  {
   "cell_type": "code",
   "execution_count": 11,
   "id": "d6701a2d",
   "metadata": {},
   "outputs": [
    {
     "name": "stdout",
     "output_type": "stream",
     "text": [
      "[1, 4, 9, 16]\n"
     ]
    }
   ],
   "source": [
    "def square(x):\n",
    "    return x*x\n",
    "\n",
    "vals = [1, 2, 3, 4]\n",
    "\n",
    "newvals = []\n",
    "\n",
    "for v in vals:\n",
    "    newvals.append(square(v))\n",
    "    \n",
    "print(newvals)"
   ]
  },
  {
   "cell_type": "markdown",
   "id": "d1c7e656",
   "metadata": {},
   "source": [
    "## Map to the Rescue"
   ]
  },
  {
   "cell_type": "code",
   "execution_count": 12,
   "id": "ce785c7d",
   "metadata": {},
   "outputs": [
    {
     "data": {
      "text/plain": [
       "[1, 4, 9, 16]"
      ]
     },
     "execution_count": 12,
     "metadata": {},
     "output_type": "execute_result"
    }
   ],
   "source": [
    "list(map(square,vals))"
   ]
  },
  {
   "cell_type": "code",
   "execution_count": null,
   "id": "2e078bb7",
   "metadata": {},
   "outputs": [],
   "source": [
    "list(map(lambda x: x*x, vals))"
   ]
  },
  {
   "cell_type": "markdown",
   "id": "a6e640fc",
   "metadata": {},
   "source": [
    "## List Comprehension"
   ]
  },
  {
   "cell_type": "code",
   "execution_count": 15,
   "id": "0a0c58c5",
   "metadata": {},
   "outputs": [
    {
     "data": {
      "text/plain": [
       "[1, 4, 9, 16]"
      ]
     },
     "execution_count": 15,
     "metadata": {},
     "output_type": "execute_result"
    }
   ],
   "source": [
    "[x*x for x in vals]"
   ]
  },
  {
   "cell_type": "code",
   "execution_count": null,
   "id": "dc49f0b7",
   "metadata": {},
   "outputs": [],
   "source": []
  }
 ],
 "metadata": {
  "kernelspec": {
   "display_name": "Python 3 (ipykernel)",
   "language": "python",
   "name": "python3"
  },
  "language_info": {
   "codemirror_mode": {
    "name": "ipython",
    "version": 3
   },
   "file_extension": ".py",
   "mimetype": "text/x-python",
   "name": "python",
   "nbconvert_exporter": "python",
   "pygments_lexer": "ipython3",
   "version": "3.8.11"
  },
  "toc": {
   "base_numbering": 1,
   "nav_menu": {},
   "number_sections": false,
   "sideBar": true,
   "skip_h1_title": false,
   "title_cell": "Table of Contents",
   "title_sidebar": "Contents",
   "toc_cell": false,
   "toc_position": {},
   "toc_section_display": true,
   "toc_window_display": true
  }
 },
 "nbformat": 4,
 "nbformat_minor": 5
}
